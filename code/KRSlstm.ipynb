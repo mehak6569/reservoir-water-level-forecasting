{
  "nbformat": 4,
  "nbformat_minor": 0,
  "metadata": {
    "kernelspec": {
      "display_name": "Python 3",
      "language": "python",
      "name": "python3"
    },
    "language_info": {
      "codemirror_mode": {
        "name": "ipython",
        "version": 3
      },
      "file_extension": ".py",
      "mimetype": "text/x-python",
      "name": "python",
      "nbconvert_exporter": "python",
      "pygments_lexer": "ipython3",
      "version": "3.6.3"
    },
    "colab": {
      "name": "KRSlstm.ipynb",
      "provenance": [],
      "collapsed_sections": [],
      "toc_visible": true
    },
    "accelerator": "GPU"
  },
  "cells": [
    {
      "cell_type": "code",
      "metadata": {
        "_cell_guid": "b1076dfc-b9ad-4769-8c92-a6c4dae69d19",
        "_uuid": "8f2839f25d086af736a60e9eeb907d3b93b6e0e5",
        "id": "ZuIJWcqx2KHw"
      },
      "source": [
        "import numpy as np\n",
        "import pandas as pd\n",
        "from math import sqrt\n",
        "import matplotlib.pyplot as plt\n",
        "from datetime import datetime\n",
        "# from sklearn.preprocessing import LabelEncoder\n",
        "from sklearn.preprocessing import MinMaxScaler"
      ],
      "execution_count": null,
      "outputs": []
    },
    {
      "cell_type": "code",
      "metadata": {
        "id": "kyKjgSEXcIQq"
      },
      "source": [
        "from sklearn.metrics import mean_squared_error\n",
        "from keras.models import Sequential\n",
        "from keras.layers import Dense\n",
        "from keras.layers import LSTM"
      ],
      "execution_count": null,
      "outputs": []
    },
    {
      "cell_type": "code",
      "metadata": {
        "colab": {
          "base_uri": "https://localhost:8080/"
        },
        "id": "j2R3RKS52STZ",
        "outputId": "470ad0b9-869c-4f72-88b6-73d37d3bd85d"
      },
      "source": [
        "# Clone the entire repo.\n",
        "!git clone -l -s https://github.com/wri/ReservoirWatchHack cloned-repo\n",
        "%cd cloned-repo\n",
        "!ls"
      ],
      "execution_count": null,
      "outputs": [
        {
          "output_type": "stream",
          "text": [
            "Cloning into 'cloned-repo'...\n",
            "warning: --local is ignored\n",
            "remote: Enumerating objects: 43, done.\u001b[K\n",
            "remote: Counting objects: 100% (43/43), done.\u001b[K\n",
            "remote: Compressing objects: 100% (39/39), done.\u001b[K\n",
            "remote: Total 43 (delta 5), reused 37 (delta 2), pack-reused 0\u001b[K\n",
            "Unpacking objects: 100% (43/43), done.\n",
            "/content/cloned-repo\n",
            "Data  Hackathon_Data_Preview.png  README.md\n"
          ],
          "name": "stdout"
        }
      ]
    },
    {
      "cell_type": "code",
      "metadata": {
        "_cell_guid": "79c7e3d0-c299-4dcb-8224-4455121ee9b0",
        "_uuid": "d629ff2d2480ee46fbb7e2d37f6b5fab8052498a",
        "colab": {
          "base_uri": "https://localhost:8080/",
          "height": 446
        },
        "id": "G6eJN2ga2KHx",
        "outputId": "0b264dd7-bd08-4a59-f1d1-3393fd18b060"
      },
      "source": [
        "def parse(x):\n",
        "\treturn datetime.strptime(x, '%Y-%m-%d')\n",
        "df = pd.read_csv(\"/content/cloned-repo/Data/CWC_WaterLevels/KRS.csv\", header=0, parse_dates = [\"FLOW_DATE\"], squeeze=True, date_parser=parse)\n",
        "df = df.drop([\"SL_NO\", \"RESERVOIR\", \"YEAR\", \"WEEK_NO\", \"UNIQUE_KEY\"], axis = 1)\n",
        "df[\"OUTFLOW_CUECS\"] = pd.to_numeric(df[\"OUTFLOW_CUECS\"], errors='coerce')\n",
        "df[\"INFLOW_CUSECS\"] = pd.to_numeric(df[\"INFLOW_CUSECS\"], errors='coerce')\n",
        "df[\"PRESENT_STORAGE_TMC\"] = pd.to_numeric(df[\"PRESENT_STORAGE_TMC\"], errors='coerce')\n",
        "df[\"RES_LEVEL_FT\"] = pd.to_numeric(df[\"RES_LEVEL_FT\"], errors='coerce')\n",
        "df.set_index('FLOW_DATE', inplace=True)\n",
        "df.to_csv('KRS.csv')\n",
        "df.head(100)"
      ],
      "execution_count": null,
      "outputs": [
        {
          "output_type": "execute_result",
          "data": {
            "text/html": [
              "<div>\n",
              "<style scoped>\n",
              "    .dataframe tbody tr th:only-of-type {\n",
              "        vertical-align: middle;\n",
              "    }\n",
              "\n",
              "    .dataframe tbody tr th {\n",
              "        vertical-align: top;\n",
              "    }\n",
              "\n",
              "    .dataframe thead th {\n",
              "        text-align: right;\n",
              "    }\n",
              "</style>\n",
              "<table border=\"1\" class=\"dataframe\">\n",
              "  <thead>\n",
              "    <tr style=\"text-align: right;\">\n",
              "      <th></th>\n",
              "      <th>PRESENT_STORAGE_TMC</th>\n",
              "      <th>RES_LEVEL_FT</th>\n",
              "      <th>INFLOW_CUSECS</th>\n",
              "      <th>OUTFLOW_CUECS</th>\n",
              "    </tr>\n",
              "    <tr>\n",
              "      <th>FLOW_DATE</th>\n",
              "      <th></th>\n",
              "      <th></th>\n",
              "      <th></th>\n",
              "      <th></th>\n",
              "    </tr>\n",
              "  </thead>\n",
              "  <tbody>\n",
              "    <tr>\n",
              "      <th>2011-01-01</th>\n",
              "      <td>46.42</td>\n",
              "      <td>122.59</td>\n",
              "      <td>2029.0</td>\n",
              "      <td>2000</td>\n",
              "    </tr>\n",
              "    <tr>\n",
              "      <th>2011-01-02</th>\n",
              "      <td>46.54</td>\n",
              "      <td>122.68</td>\n",
              "      <td>3084.0</td>\n",
              "      <td>1490</td>\n",
              "    </tr>\n",
              "    <tr>\n",
              "      <th>2011-01-03</th>\n",
              "      <td>46.64</td>\n",
              "      <td>122.75</td>\n",
              "      <td>2776.0</td>\n",
              "      <td>1491</td>\n",
              "    </tr>\n",
              "    <tr>\n",
              "      <th>2011-01-04</th>\n",
              "      <td>46.69</td>\n",
              "      <td>122.79</td>\n",
              "      <td>2311.0</td>\n",
              "      <td>1491</td>\n",
              "    </tr>\n",
              "    <tr>\n",
              "      <th>2011-01-05</th>\n",
              "      <td>46.70</td>\n",
              "      <td>122.80</td>\n",
              "      <td>1847.0</td>\n",
              "      <td>1491</td>\n",
              "    </tr>\n",
              "    <tr>\n",
              "      <th>...</th>\n",
              "      <td>...</td>\n",
              "      <td>...</td>\n",
              "      <td>...</td>\n",
              "      <td>...</td>\n",
              "    </tr>\n",
              "    <tr>\n",
              "      <th>2011-04-06</th>\n",
              "      <td>25.86</td>\n",
              "      <td>103.71</td>\n",
              "      <td>150.0</td>\n",
              "      <td>4056</td>\n",
              "    </tr>\n",
              "    <tr>\n",
              "      <th>2011-04-07</th>\n",
              "      <td>25.51</td>\n",
              "      <td>103.30</td>\n",
              "      <td>172.0</td>\n",
              "      <td>4048</td>\n",
              "    </tr>\n",
              "    <tr>\n",
              "      <th>2011-04-08</th>\n",
              "      <td>25.17</td>\n",
              "      <td>102.90</td>\n",
              "      <td>287.0</td>\n",
              "      <td>4041</td>\n",
              "    </tr>\n",
              "    <tr>\n",
              "      <th>2011-04-09</th>\n",
              "      <td>24.85</td>\n",
              "      <td>102.52</td>\n",
              "      <td>547.0</td>\n",
              "      <td>4036</td>\n",
              "    </tr>\n",
              "    <tr>\n",
              "      <th>2011-04-10</th>\n",
              "      <td>24.79</td>\n",
              "      <td>102.45</td>\n",
              "      <td>631.0</td>\n",
              "      <td>1125</td>\n",
              "    </tr>\n",
              "  </tbody>\n",
              "</table>\n",
              "<p>100 rows × 4 columns</p>\n",
              "</div>"
            ],
            "text/plain": [
              "            PRESENT_STORAGE_TMC  RES_LEVEL_FT  INFLOW_CUSECS  OUTFLOW_CUECS\n",
              "FLOW_DATE                                                                  \n",
              "2011-01-01                46.42        122.59         2029.0           2000\n",
              "2011-01-02                46.54        122.68         3084.0           1490\n",
              "2011-01-03                46.64        122.75         2776.0           1491\n",
              "2011-01-04                46.69        122.79         2311.0           1491\n",
              "2011-01-05                46.70        122.80         1847.0           1491\n",
              "...                         ...           ...            ...            ...\n",
              "2011-04-06                25.86        103.71          150.0           4056\n",
              "2011-04-07                25.51        103.30          172.0           4048\n",
              "2011-04-08                25.17        102.90          287.0           4041\n",
              "2011-04-09                24.85        102.52          547.0           4036\n",
              "2011-04-10                24.79        102.45          631.0           1125\n",
              "\n",
              "[100 rows x 4 columns]"
            ]
          },
          "metadata": {
            "tags": []
          },
          "execution_count": 4
        }
      ]
    },
    {
      "cell_type": "code",
      "metadata": {
        "id": "4U0CCN2cWoc3"
      },
      "source": [
        ""
      ],
      "execution_count": null,
      "outputs": []
    },
    {
      "cell_type": "code",
      "metadata": {
        "colab": {
          "base_uri": "https://localhost:8080/",
          "height": 604
        },
        "id": "jBm_1yNNnCo3",
        "outputId": "0061191c-26a1-4c88-e9e6-0ccf7653a9d5"
      },
      "source": [
        "# load dataset\n",
        "dataset = pd.read_csv('/content/cloned-repo/KRS.csv', header=0, index_col=0)\n",
        "values = dataset.values\n",
        "# specify columns to plot\n",
        "groups = [0, 1, 2, 3]\n",
        "i = 1\n",
        "# plot each column\n",
        "plt.figure(figsize=(16, 10), dpi=80)\n",
        "for group in groups:\n",
        "\tplt.subplot(len(groups), 1, i)\n",
        "\tplt.plot(values[:, group])\n",
        "\tplt.title(dataset.columns[group], y=0.5, loc='right')\n",
        "\ti += 1\n",
        "plt.show()"
      ],
      "execution_count": null,
      "outputs": [
        {
          "output_type": "display_data",
          "data": {
            "image/png": "[encoded data removed]",
            "text/plain": [
              "<Figure size 1280x800 with 4 Axes>"
            ]
          },
          "metadata": {
            "tags": [],
            "needs_background": "light"
          }
        }
      ]
    },
    {
      "cell_type": "markdown",
      "metadata": {
        "id": "tG8vDxPIfNLp"
      },
      "source": [
        "## **Univariate**"
      ]
    },
    {
      "cell_type": "code",
      "metadata": {
        "id": "Dln8zzhMjvSq"
      },
      "source": [
        "# frame a sequence as a supervised learning problem\n",
        "def timeseries_to_supervised(data, lag=1):\n",
        "\tdf = pd.DataFrame(data)\n",
        "\tcolumns = [df.shift(i) for i in range(1, lag+1)]\n",
        "\tcolumns.append(df)\n",
        "\tdf = pd.concat(columns, axis=1)\n",
        "\tdf.fillna(0, inplace=True)\n",
        "\treturn df"
      ],
      "execution_count": null,
      "outputs": []
    },
    {
      "cell_type": "code",
      "metadata": {
        "id": "_OOBbLyHkwTp"
      },
      "source": [
        "# create a differenced series\n",
        "def difference(dataset, interval=1):\n",
        "\tdiff = list()\n",
        "\tfor i in range(interval, len(dataset)):\n",
        "\t\tvalue = dataset[i] - dataset[i - interval]\n",
        "\t\tdiff.append(value)\n",
        "\treturn pd.Series(diff)"
      ],
      "execution_count": null,
      "outputs": []
    },
    {
      "cell_type": "code",
      "metadata": {
        "id": "7X5k2CtYky5w"
      },
      "source": [
        "# invert differenced value\n",
        "def inverse_difference(history, yhat, interval=1):\n",
        "\treturn yhat + history[-interval]"
      ],
      "execution_count": null,
      "outputs": []
    },
    {
      "cell_type": "code",
      "metadata": {
        "id": "xmalThtrk18n"
      },
      "source": [
        "# scale train and test data to [-1, 1]\n",
        "def scale(train, test):\n",
        "\t# fit scaler\n",
        "\tscaler = MinMaxScaler(feature_range=(-1, 1))\n",
        "\tscaler = scaler.fit(train)\n",
        "\t# transform train\n",
        "\ttrain = train.reshape(train.shape[0], train.shape[1])\n",
        "\ttrain_scaled = scaler.transform(train)\n",
        "\t# transform test\n",
        "\ttest = test.reshape(test.shape[0], test.shape[1])\n",
        "\ttest_scaled = scaler.transform(test)\n",
        "\treturn scaler, train_scaled, test_scaled"
      ],
      "execution_count": null,
      "outputs": []
    },
    {
      "cell_type": "code",
      "metadata": {
        "id": "2qKv8Ynsk4zy"
      },
      "source": [
        "# inverse scaling for a forecasted value\n",
        "def invert_scale(scaler, X, value):\n",
        "\tnew_row = [x for x in X] + [value]\n",
        "\tarray = np.array(new_row)\n",
        "\tarray = array.reshape(1, len(array))\n",
        "\tinverted = scaler.inverse_transform(array)\n",
        "\treturn inverted[0, -1]"
      ],
      "execution_count": null,
      "outputs": []
    },
    {
      "cell_type": "code",
      "metadata": {
        "id": "IXB7XxI50vhC"
      },
      "source": [
        "def fit_lstm(train, batch_size, nb_epoch, neurons):\n",
        "\tX, y = train[:, 0:-1], train[:, -1]\n",
        "\tX = X.reshape(X.shape[0], 1, X.shape[1])\n",
        "\tmodel = Sequential()\n",
        "\tmodel.add(LSTM(neurons, batch_input_shape=(batch_size, X.shape[1], X.shape[2]), stateful=True))\n",
        "\tmodel.add(Dense(1))\n",
        "\tmodel.compile(loss='mean_squared_error', optimizer='adam')\n",
        "\tfor i in range(nb_epoch):\n",
        "\t\tmodel.fit(X, y, epochs=1, batch_size=batch_size, verbose=0, shuffle=False)\n",
        "\t\tmodel.reset_states()\n",
        "\treturn model"
      ],
      "execution_count": null,
      "outputs": []
    },
    {
      "cell_type": "code",
      "metadata": {
        "id": "VJ2VgwL_k9q6"
      },
      "source": [
        "# make a one-step forecast\n",
        "def forecast_lstm(model, batch_size, X):\n",
        "\tX = X.reshape(1, 1, len(X))\n",
        "\tyhat = model.predict(X, batch_size=batch_size)\n",
        "\treturn yhat[0,0]"
      ],
      "execution_count": null,
      "outputs": []
    },
    {
      "cell_type": "code",
      "metadata": {
        "id": "zyCWoxbNlpX4"
      },
      "source": [
        "# load dataset\n",
        "uniData = pd.read_csv('/content/cloned-repo/KRS.csv', header=0, index_col=0)\n",
        "# drop \"PRESENT_STORAGE_FT\", \"INFLOW_CUSECS\", \"OUTFLOW_CUECS\" for predicting RES_LEVEL_FT\n",
        "# drop \"RES_LEVEL_FT\", \"INFLOW_CUSECS\", \"OUTFLOW_CUECS\" for predicting PRESENT_STORAGE_FT\n",
        "uniData = uniData.drop([\"RES_LEVEL_FT\", \"INFLOW_CUSECS\", \"OUTFLOW_CUECS\"], axis = 1)\n",
        "uniValues = uniData.values\n",
        "uniValues = uniValues.astype('float32')"
      ],
      "execution_count": null,
      "outputs": []
    },
    {
      "cell_type": "code",
      "metadata": {
        "id": "-zfGRq-4lqy3"
      },
      "source": [
        "# transform data to be stationary\n",
        "diff_values = difference(uniValues, 1)\n",
        "\n",
        "# transform data to be supervised learning\n",
        "supervised = timeseries_to_supervised(diff_values, 1)\n",
        "supervised_values = supervised.values\n",
        "\n",
        "# split data into train and test-sets\n",
        "n_train_days = 365 * 8\n",
        "train = supervised_values[:n_train_days]\n",
        "test = supervised_values[n_train_days:]\n",
        "\n",
        "# transform the scale of the data\n",
        "scaler, train_scaled, test_scaled = scale(train, test)"
      ],
      "execution_count": null,
      "outputs": []
    },
    {
      "cell_type": "code",
      "metadata": {
        "colab": {
          "base_uri": "https://localhost:8080/"
        },
        "id": "Tqz1Rygm1AdH",
        "outputId": "06baace1-2c14-4d8d-cef9-b887698cd4c5"
      },
      "source": [
        "lstm_model = fit_lstm(train_scaled, 1, 3, 1)\n",
        "# forecast the entire training dataset to build up state for forecasting\n",
        "train_reshaped = train_scaled[:, 0].reshape(len(train_scaled), 1, 1)\n",
        "lstm_model.predict(train_reshaped, batch_size=1)"
      ],
      "execution_count": null,
      "outputs": [
        {
          "output_type": "execute_result",
          "data": {
            "text/plain": [
              "array([[0.00406806],\n",
              "       [0.00404809],\n",
              "       [0.00405036],\n",
              "       ...,\n",
              "       [0.00445419],\n",
              "       [0.00447231],\n",
              "       [0.00448092]], dtype=float32)"
            ]
          },
          "metadata": {
            "tags": []
          },
          "execution_count": 15
        }
      ]
    },
    {
      "cell_type": "code",
      "metadata": {
        "colab": {
          "base_uri": "https://localhost:8080/"
        },
        "id": "Jwji8AiLm7PH",
        "outputId": "744f6518-8d00-45ed-9063-71215f32e55c"
      },
      "source": [
        "# walk-forward validation on the test data\n",
        "predictions = list()\n",
        "for i in range(len(test_scaled)):\n",
        "\t# make one-step forecast\n",
        "\tX, y = test_scaled[i, 0:-1], test_scaled[i, -1]\n",
        "\tyhat = forecast_lstm(lstm_model, 1, X)\n",
        "\t# invert scaling\n",
        "\tyhat = invert_scale(scaler, X, yhat)\n",
        "\t# invert differencing\n",
        "\tyhat = inverse_difference(uniValues, yhat, len(test_scaled)+1-i)\n",
        "\t# store forecast\n",
        "\tpredictions.append(yhat)\n",
        "\texpected = uniValues[len(train) + i + 1]\n",
        "\tprint('Day=%d, Predicted=%f, Expected=%f' % (i+1, yhat, expected))"
      ],
      "execution_count": null,
      "outputs": [
        {
          "output_type": "stream",
          "text": [
            "Day=1, Predicted=47.381237, Expected=47.060001\n",
            "Day=2, Predicted=47.091583, Expected=46.779999\n",
            "Day=3, Predicted=46.811493, Expected=46.500000\n",
            "Day=4, Predicted=46.531456, Expected=46.230000\n",
            "Day=5, Predicted=46.261189, Expected=45.950001\n",
            "Day=6, Predicted=45.981312, Expected=45.660000\n",
            "Day=7, Predicted=45.691616, Expected=45.380001\n",
            "Day=8, Predicted=45.411510, Expected=45.110001\n",
            "Day=9, Predicted=45.141216, Expected=44.830002\n",
            "Day=10, Predicted=44.861324, Expected=44.560001\n",
            "Day=11, Predicted=44.591129, Expected=44.279999\n",
            "Day=12, Predicted=44.311279, Expected=44.029999\n",
            "Day=13, Predicted=44.060612, Expected=43.770000\n",
            "Day=14, Predicted=43.800549, Expected=43.520000\n",
            "Day=15, Predicted=43.550266, Expected=43.259998\n",
            "Day=16, Predicted=43.290379, Expected=43.259998\n",
            "Day=17, Predicted=43.284046, Expected=42.750000\n",
            "Day=18, Predicted=42.783657, Expected=42.439999\n",
            "Day=19, Predicted=42.473183, Expected=42.139999\n",
            "Day=20, Predicted=42.172745, Expected=41.869999\n",
            "Day=21, Predicted=41.901798, Expected=41.580002\n",
            "Day=22, Predicted=41.611851, Expected=41.299999\n",
            "Day=23, Predicted=41.331619, Expected=41.029999\n",
            "Day=24, Predicted=41.061268, Expected=41.029999\n",
            "Day=25, Predicted=41.054466, Expected=40.759998\n",
            "Day=26, Predicted=40.787899, Expected=40.910000\n",
            "Day=27, Predicted=40.929218, Expected=41.009998\n",
            "Day=28, Predicted=41.026340, Expected=41.119999\n",
            "Day=29, Predicted=41.134724, Expected=41.209999\n",
            "Day=30, Predicted=41.224442, Expected=41.299999\n",
            "Day=31, Predicted=41.314308, Expected=41.349998\n",
            "Day=32, Predicted=41.365215, Expected=41.389999\n",
            "Day=33, Predicted=41.405891, Expected=41.310001\n",
            "Day=34, Predicted=41.329147, Expected=41.220001\n",
            "Day=35, Predicted=41.240936, Expected=41.090000\n",
            "Day=36, Predicted=41.112762, Expected=40.990002\n",
            "Day=37, Predicted=41.012894, Expected=40.869999\n",
            "Day=38, Predicted=40.893448, Expected=40.770000\n",
            "Day=39, Predicted=40.793221, Expected=40.660000\n",
            "Day=40, Predicted=40.683361, Expected=40.570000\n",
            "Day=41, Predicted=40.592934, Expected=40.520000\n",
            "Day=42, Predicted=40.541756, Expected=40.419998\n",
            "Day=43, Predicted=40.442417, Expected=40.290001\n",
            "Day=44, Predicted=40.313469, Expected=40.090000\n",
            "Day=45, Predicted=40.115688, Expected=40.090000\n",
            "Day=46, Predicted=40.111828, Expected=11.490000\n",
            "Day=47, Predicted=12.459563, Expected=11.480000\n",
            "Day=48, Predicted=11.852370, Expected=11.480000\n",
            "Day=49, Predicted=11.672844, Expected=11.480000\n",
            "Day=50, Predicted=11.582705, Expected=11.470000\n",
            "Day=51, Predicted=11.529018, Expected=11.460000\n",
            "Day=52, Predicted=11.498012, Expected=11.460000\n",
            "Day=53, Predicted=11.487725, Expected=11.450000\n",
            "Day=54, Predicted=11.473066, Expected=11.450000\n",
            "Day=55, Predicted=11.470601, Expected=11.440000\n",
            "Day=56, Predicted=11.459673, Expected=11.430000\n",
            "Day=57, Predicted=11.449231, Expected=12.140000\n",
            "Day=58, Predicted=12.141682, Expected=11.420000\n",
            "Day=59, Predicted=11.448219, Expected=11.410000\n",
            "Day=60, Predicted=11.433206, Expected=45.160000\n",
            "Day=61, Predicted=44.875725, Expected=45.160000\n",
            "Day=62, Predicted=44.923290, Expected=45.130001\n",
            "Day=63, Predicted=45.029415, Expected=45.080002\n",
            "Day=64, Predicted=45.043400, Expected=45.029999\n",
            "Day=65, Predicted=45.023540, Expected=44.959999\n",
            "Day=66, Predicted=44.968288, Expected=44.900002\n",
            "Day=67, Predicted=44.915043, Expected=44.820000\n",
            "Day=68, Predicted=44.838737, Expected=44.740002\n",
            "Day=69, Predicted=44.760494, Expected=44.660000\n",
            "Day=70, Predicted=44.681328, Expected=44.599998\n",
            "Day=71, Predicted=44.621235, Expected=44.529999\n",
            "Day=72, Predicted=44.551437, Expected=44.450001\n",
            "Day=73, Predicted=44.471779, Expected=44.290001\n",
            "Day=74, Predicted=44.313904, Expected=43.900002\n",
            "Day=75, Predicted=43.930588, Expected=43.520000\n",
            "Day=76, Predicted=43.553482, Expected=43.139999\n",
            "Day=77, Predicted=43.174858, Expected=42.779999\n",
            "Day=78, Predicted=42.815014, Expected=42.430000\n",
            "Day=79, Predicted=42.464844, Expected=42.099998\n",
            "Day=80, Predicted=42.134270, Expected=41.790001\n",
            "Day=81, Predicted=41.823505, Expected=41.509998\n",
            "Day=82, Predicted=41.542404, Expected=41.240002\n",
            "Day=83, Predicted=41.271641, Expected=40.950001\n",
            "Day=84, Predicted=40.981773, Expected=40.650002\n",
            "Day=85, Predicted=40.682079, Expected=40.349998\n",
            "Day=86, Predicted=40.382221, Expected=40.060001\n",
            "Day=87, Predicted=40.092045, Expected=39.779999\n",
            "Day=88, Predicted=39.811714, Expected=39.500000\n",
            "Day=89, Predicted=39.531559, Expected=39.220001\n",
            "Day=90, Predicted=39.251488, Expected=38.919998\n",
            "Day=91, Predicted=38.951942, Expected=38.639999\n",
            "Day=92, Predicted=38.671665, Expected=38.480000\n",
            "Day=93, Predicted=38.508575, Expected=38.430000\n",
            "Day=94, Predicted=38.454430, Expected=38.389999\n",
            "Day=95, Predicted=38.412224, Expected=38.349998\n",
            "Day=96, Predicted=38.371174, Expected=38.320000\n",
            "Day=97, Predicted=38.340431, Expected=38.270000\n",
            "Day=98, Predicted=38.290569, Expected=38.220001\n",
            "Day=99, Predicted=38.240635, Expected=38.180000\n",
            "Day=100, Predicted=38.200417, Expected=38.139999\n",
            "Day=101, Predicted=38.160316, Expected=38.110001\n",
            "Day=102, Predicted=38.130024, Expected=38.060001\n",
            "Day=103, Predicted=38.080376, Expected=38.020000\n",
            "Day=104, Predicted=38.040295, Expected=37.759998\n",
            "Day=105, Predicted=37.785664, Expected=37.490002\n",
            "Day=106, Predicted=37.518444, Expected=37.209999\n",
            "Day=107, Predicted=37.240005, Expected=36.939999\n",
            "Day=108, Predicted=36.970501, Expected=36.669998\n",
            "Day=109, Predicted=36.700737, Expected=36.410000\n",
            "Day=110, Predicted=36.440601, Expected=36.139999\n",
            "Day=111, Predicted=36.170788, Expected=35.869999\n",
            "Day=112, Predicted=35.900871, Expected=35.610001\n",
            "Day=113, Predicted=35.640667, Expected=35.340000\n",
            "Day=114, Predicted=35.370819, Expected=35.049999\n",
            "Day=115, Predicted=35.081383, Expected=34.770000\n",
            "Day=116, Predicted=34.801399, Expected=34.389999\n",
            "Day=117, Predicted=34.423885, Expected=33.889999\n",
            "Day=118, Predicted=33.928032, Expected=33.380001\n",
            "Day=119, Predicted=33.420227, Expected=33.070000\n",
            "Day=120, Predicted=33.106297, Expected=32.790001\n",
            "Day=121, Predicted=32.823730, Expected=32.720001\n",
            "Day=122, Predicted=32.747349, Expected=32.740002\n",
            "Day=123, Predicted=32.762146, Expected=32.740002\n",
            "Day=124, Predicted=32.760166, Expected=32.700001\n",
            "Day=125, Predicted=32.720200, Expected=32.650002\n",
            "Day=126, Predicted=32.670460, Expected=32.590000\n",
            "Day=127, Predicted=32.610825, Expected=32.540001\n",
            "Day=128, Predicted=32.560753, Expected=32.480000\n",
            "Day=129, Predicted=32.500965, Expected=32.419998\n",
            "Day=130, Predicted=32.441063, Expected=32.360001\n",
            "Day=131, Predicted=32.381111, Expected=32.299999\n",
            "Day=132, Predicted=32.321133, Expected=32.250000\n",
            "Day=133, Predicted=32.270901, Expected=32.189999\n",
            "Day=134, Predicted=32.211033, Expected=32.000000\n",
            "Day=135, Predicted=32.024288, Expected=31.719999\n",
            "Day=136, Predicted=31.748043, Expected=31.410000\n",
            "Day=137, Predicted=31.440557, Expected=31.080000\n",
            "Day=138, Predicted=31.112242, Expected=30.770000\n",
            "Day=139, Predicted=30.802544, Expected=30.440001\n",
            "Day=140, Predicted=30.473185, Expected=30.120001\n",
            "Day=141, Predicted=30.153238, Expected=29.799999\n",
            "Day=142, Predicted=29.833265, Expected=29.459999\n",
            "Day=143, Predicted=29.493773, Expected=29.129999\n",
            "Day=144, Predicted=29.163763, Expected=28.809999\n",
            "Day=145, Predicted=28.843512, Expected=28.490000\n",
            "Day=146, Predicted=28.523396, Expected=28.160000\n",
            "Day=147, Predicted=28.193588, Expected=27.820000\n",
            "Day=148, Predicted=27.853924, Expected=27.480000\n",
            "Day=149, Predicted=27.514082, Expected=27.170000\n",
            "Day=150, Predicted=27.203415, Expected=26.860001\n",
            "Day=151, Predicted=26.893105, Expected=26.559999\n",
            "Day=152, Predicted=26.592709, Expected=26.420000\n",
            "Day=153, Predicted=26.448578, Expected=26.370001\n",
            "Day=154, Predicted=26.394432, Expected=26.299999\n",
            "Day=155, Predicted=26.322960, Expected=26.230000\n",
            "Day=156, Predicted=26.252256, Expected=26.160000\n",
            "Day=157, Predicted=26.181923, Expected=26.090000\n",
            "Day=158, Predicted=26.111765, Expected=26.020000\n",
            "Day=159, Predicted=26.041689, Expected=25.959999\n",
            "Day=160, Predicted=25.981407, Expected=25.950001\n",
            "Day=161, Predicted=25.970053, Expected=25.940001\n",
            "Day=162, Predicted=25.959412, Expected=25.930000\n",
            "Day=163, Predicted=25.949106, Expected=25.889999\n",
            "Day=164, Predicted=25.909693, Expected=25.830000\n",
            "Day=165, Predicted=25.850462, Expected=25.770000\n",
            "Day=166, Predicted=25.790825, Expected=25.590000\n",
            "Day=167, Predicted=25.613943, Expected=25.250000\n",
            "Day=168, Predicted=25.279364, Expected=24.920000\n",
            "Day=169, Predicted=24.951672, Expected=24.580000\n",
            "Day=170, Predicted=24.613014, Expected=24.219999\n",
            "Day=171, Predicted=24.254147, Expected=23.840000\n",
            "Day=172, Predicted=23.875177, Expected=23.480000\n",
            "Day=173, Predicted=23.515165, Expected=23.110001\n",
            "Day=174, Predicted=23.145412, Expected=22.750000\n",
            "Day=175, Predicted=22.785278, Expected=22.379999\n",
            "Day=176, Predicted=22.415464, Expected=22.020000\n",
            "Day=177, Predicted=22.055305, Expected=21.660000\n",
            "Day=178, Predicted=21.695230, Expected=21.299999\n",
            "Day=179, Predicted=21.335194, Expected=20.940001\n",
            "Day=180, Predicted=20.975178, Expected=20.700001\n",
            "Day=181, Predicted=20.732203, Expected=20.549999\n",
            "Day=182, Predicted=20.578592, Expected=20.440001\n",
            "Day=183, Predicted=20.465910, Expected=20.379999\n",
            "Day=184, Predicted=20.403410, Expected=20.370001\n",
            "Day=185, Predicted=20.391006, Expected=20.360001\n",
            "Day=186, Predicted=20.379866, Expected=20.330000\n",
            "Day=187, Predicted=20.349810, Expected=20.309999\n",
            "Day=188, Predicted=20.329538, Expected=20.280001\n",
            "Day=189, Predicted=20.299656, Expected=20.250000\n",
            "Day=190, Predicted=20.269709, Expected=20.209999\n",
            "Day=191, Predicted=20.229979, Expected=20.180000\n",
            "Day=192, Predicted=20.199863, Expected=20.129999\n",
            "Day=193, Predicted=20.150297, Expected=20.090000\n",
            "Day=194, Predicted=20.110258, Expected=20.010000\n",
            "Day=195, Predicted=20.031219, Expected=19.950001\n",
            "Day=196, Predicted=19.971186, Expected=19.610001\n",
            "Day=197, Predicted=19.638063, Expected=19.260000\n",
            "Day=198, Predicted=19.291550, Expected=19.000000\n",
            "Day=199, Predicted=19.030975, Expected=18.730000\n",
            "Day=200, Predicted=18.760963, Expected=18.459999\n",
            "Day=201, Predicted=18.490957, Expected=18.209999\n",
            "Day=202, Predicted=18.240459, Expected=17.980000\n",
            "Day=203, Predicted=18.009733, Expected=17.730000\n",
            "Day=204, Predicted=17.759884, Expected=17.480000\n",
            "Day=205, Predicted=17.509953, Expected=17.320000\n",
            "Day=206, Predicted=17.347769, Expected=17.290001\n",
            "Day=207, Predicted=17.313557, Expected=17.209999\n",
            "Day=208, Predicted=17.232788, Expected=17.129999\n",
            "Day=209, Predicted=17.152420, Expected=17.110001\n",
            "Day=210, Predicted=17.130777, Expected=17.129999\n",
            "Day=211, Predicted=17.149021, Expected=17.129999\n",
            "Day=212, Predicted=17.148678, Expected=17.160000\n",
            "Day=213, Predicted=17.177780, Expected=17.200001\n",
            "Day=214, Predicted=17.217113, Expected=17.219999\n",
            "Day=215, Predicted=17.237282, Expected=17.160000\n",
            "Day=216, Predicted=17.179317, Expected=17.200001\n",
            "Day=217, Predicted=17.217838, Expected=17.219999\n",
            "Day=218, Predicted=17.237627, Expected=17.240000\n",
            "Day=219, Predicted=17.257526, Expected=17.250000\n",
            "Day=220, Predicted=17.267723, Expected=17.270000\n",
            "Day=221, Predicted=17.287571, Expected=17.290001\n",
            "Day=222, Predicted=17.307501, Expected=17.360001\n",
            "Day=223, Predicted=17.376247, Expected=17.420000\n",
            "Day=224, Predicted=17.435896, Expected=17.450001\n",
            "Day=225, Predicted=17.466461, Expected=17.520000\n",
            "Day=226, Predicted=17.535753, Expected=17.570000\n",
            "Day=227, Predicted=17.585903, Expected=17.570000\n",
            "Day=228, Predicted=17.587196, Expected=17.590000\n",
            "Day=229, Predicted=17.607321, Expected=17.600000\n",
            "Day=230, Predicted=17.617624, Expected=17.610001\n",
            "Day=231, Predicted=17.627769, Expected=17.719999\n",
            "Day=232, Predicted=17.735399, Expected=17.940001\n",
            "Day=233, Predicted=17.951609, Expected=18.150000\n",
            "Day=234, Predicted=18.160048, Expected=18.620001\n",
            "Day=235, Predicted=18.623041, Expected=19.040001\n",
            "Day=236, Predicted=19.040890, Expected=19.260000\n",
            "Day=237, Predicted=19.264685, Expected=19.420000\n",
            "Day=238, Predicted=19.427958, Expected=19.660000\n",
            "Day=239, Predicted=19.667582, Expected=19.910000\n",
            "Day=240, Predicted=19.917160, Expected=20.080000\n",
            "Day=241, Predicted=20.088894, Expected=20.209999\n",
            "Day=242, Predicted=20.220692, Expected=20.330000\n",
            "Day=243, Predicted=20.341793, Expected=20.440001\n",
            "Day=244, Predicted=20.452560, Expected=20.549999\n",
            "Day=245, Predicted=20.562923, Expected=20.650000\n",
            "Day=246, Predicted=20.663342, Expected=20.840000\n",
            "Day=247, Predicted=20.851355, Expected=21.000000\n",
            "Day=248, Predicted=21.011137, Expected=21.150000\n",
            "Day=249, Predicted=21.161276, Expected=21.389999\n",
            "Day=250, Predicted=21.399160, Expected=21.850000\n",
            "Day=251, Predicted=21.852859, Expected=22.340000\n",
            "Day=252, Predicted=22.339125, Expected=23.070000\n",
            "Day=253, Predicted=23.061626, Expected=29.490000\n",
            "Day=254, Predicted=29.359739, Expected=29.420000\n",
            "Day=255, Predicted=29.362816, Expected=29.200001\n",
            "Day=256, Predicted=29.188007, Expected=28.910000\n",
            "Day=257, Predicted=28.921101, Expected=28.629999\n",
            "Day=258, Predicted=28.651781, Expected=28.490000\n",
            "Day=259, Predicted=28.513395, Expected=28.370001\n",
            "Day=260, Predicted=28.393684, Expected=28.129999\n",
            "Day=261, Predicted=28.156775, Expected=27.860001\n",
            "Day=262, Predicted=27.888973, Expected=27.840000\n",
            "Day=263, Predicted=27.863867, Expected=27.730000\n",
            "Day=264, Predicted=27.753675, Expected=27.600000\n",
            "Day=265, Predicted=27.624065, Expected=27.620001\n",
            "Day=266, Predicted=27.640577, Expected=28.969999\n",
            "Day=267, Predicted=28.957342, Expected=47.580002\n",
            "Day=268, Predicted=47.303158, Expected=48.410000\n",
            "Day=269, Predicted=48.220852, Expected=48.840000\n",
            "Day=270, Predicted=48.749233, Expected=49.169998\n",
            "Day=271, Predicted=49.128487, Expected=49.450001\n",
            "Day=272, Predicted=49.433075, Expected=49.450001\n",
            "Day=273, Predicted=49.451557, Expected=48.480000\n",
            "Day=274, Predicted=48.514511, Expected=48.090000\n",
            "Day=275, Predicted=48.125488, Expected=49.310001\n",
            "Day=276, Predicted=49.307373, Expected=49.450001\n",
            "Day=277, Predicted=49.454868, Expected=49.340000\n",
            "Day=278, Predicted=49.354633, Expected=49.240002\n",
            "Day=279, Predicted=49.259033, Expected=49.230000\n",
            "Day=280, Predicted=49.248920, Expected=49.090000\n",
            "Day=281, Predicted=49.112057, Expected=48.849998\n",
            "Day=282, Predicted=48.875999, Expected=48.500000\n",
            "Day=283, Predicted=48.530582, Expected=48.160000\n",
            "Day=284, Predicted=48.192493, Expected=47.830002\n",
            "Day=285, Predicted=47.863159, Expected=47.500000\n",
            "Day=286, Predicted=47.533474, Expected=47.270000\n",
            "Day=287, Predicted=47.301151, Expected=47.380001\n",
            "Day=288, Predicted=47.401737, Expected=47.790001\n",
            "Day=289, Predicted=47.800049, Expected=48.200001\n",
            "Day=290, Predicted=48.204479, Expected=48.540001\n",
            "Day=291, Predicted=48.543503, Expected=48.680000\n",
            "Day=292, Predicted=48.687874, Expected=48.669998\n",
            "Day=293, Predicted=48.683617, Expected=48.630001\n",
            "Day=294, Predicted=48.647083, Expected=48.730000\n",
            "Day=295, Predicted=48.745316, Expected=49.009998\n",
            "Day=296, Predicted=49.020115, Expected=49.029999\n",
            "Day=297, Predicted=49.043953, Expected=49.080002\n",
            "Day=298, Predicted=49.095047, Expected=49.130001\n",
            "Day=299, Predicted=49.145569, Expected=49.209999\n",
            "Day=300, Predicted=49.225082, Expected=49.270000\n",
            "Day=301, Predicted=49.285343, Expected=49.310001\n",
            "Day=302, Predicted=49.325954, Expected=49.340000\n",
            "Day=303, Predicted=49.356487, Expected=49.369999\n",
            "Day=304, Predicted=49.386738, Expected=49.349998\n",
            "Day=305, Predicted=49.368080, Expected=49.240002\n",
            "Day=306, Predicted=49.260921, Expected=49.169998\n",
            "Day=307, Predicted=49.191284, Expected=48.680000\n",
            "Day=308, Predicted=48.711834, Expected=47.720001\n",
            "Day=309, Predicted=47.768612, Expected=47.110001\n",
            "Day=310, Predicted=47.157616, Expected=47.720001\n",
            "Day=311, Predicted=47.737419, Expected=48.270000\n",
            "Day=312, Predicted=48.274662, Expected=48.680000\n",
            "Day=313, Predicted=48.681900, Expected=49.029999\n",
            "Day=314, Predicted=49.032028, Expected=49.240002\n",
            "Day=315, Predicted=49.245476, Expected=49.340000\n",
            "Day=316, Predicted=49.349792, Expected=49.380001\n",
            "Day=317, Predicted=49.393314, Expected=49.410000\n",
            "Day=318, Predicted=49.425228, Expected=49.450001\n",
            "Day=319, Predicted=49.465897, Expected=49.450001\n",
            "Day=320, Predicted=49.467194, Expected=49.450001\n",
            "Day=321, Predicted=49.467808, Expected=49.450001\n",
            "Day=322, Predicted=49.468098, Expected=49.450001\n",
            "Day=323, Predicted=49.468239, Expected=49.450001\n",
            "Day=324, Predicted=49.468304, Expected=49.450001\n",
            "Day=325, Predicted=49.468334, Expected=49.450001\n",
            "Day=326, Predicted=49.468349, Expected=49.450001\n",
            "Day=327, Predicted=49.468357, Expected=49.450001\n",
            "Day=328, Predicted=49.468361, Expected=49.450001\n",
            "Day=329, Predicted=49.468365, Expected=49.450001\n",
            "Day=330, Predicted=49.468365, Expected=49.450001\n",
            "Day=331, Predicted=49.468365, Expected=49.450001\n",
            "Day=332, Predicted=49.468365, Expected=49.450001\n",
            "Day=333, Predicted=49.468365, Expected=49.450001\n",
            "Day=334, Predicted=49.468365, Expected=49.450001\n",
            "Day=335, Predicted=49.468365, Expected=49.450001\n",
            "Day=336, Predicted=49.468365, Expected=49.450001\n",
            "Day=337, Predicted=49.468365, Expected=49.450001\n",
            "Day=338, Predicted=49.468365, Expected=49.450001\n",
            "Day=339, Predicted=49.468365, Expected=49.450001\n",
            "Day=340, Predicted=49.468365, Expected=49.450001\n",
            "Day=341, Predicted=49.468365, Expected=49.450001\n",
            "Day=342, Predicted=49.468365, Expected=49.450001\n",
            "Day=343, Predicted=49.468365, Expected=49.450001\n",
            "Day=344, Predicted=49.468365, Expected=49.450001\n",
            "Day=345, Predicted=49.468365, Expected=49.230000\n",
            "Day=346, Predicted=49.253761, Expected=49.099998\n",
            "Day=347, Predicted=49.124092, Expected=48.910000\n",
            "Day=348, Predicted=48.935738, Expected=48.700001\n",
            "Day=349, Predicted=48.727005, Expected=48.599998\n",
            "Day=350, Predicted=48.624901, Expected=48.590000\n",
            "Day=351, Predicted=48.611710, Expected=48.520000\n",
            "Day=352, Predicted=48.541668, Expected=48.599998\n",
            "Day=353, Predicted=48.617977, Expected=48.750000\n",
            "Day=354, Predicted=48.764534, Expected=48.740002\n",
            "Day=355, Predicted=48.756794, Expected=48.599998\n",
            "Day=356, Predicted=48.621040, Expected=48.430000\n",
            "Day=357, Predicted=48.453796, Expected=48.200001\n",
            "Day=358, Predicted=48.226578, Expected=48.060001\n",
            "Day=359, Predicted=48.085678, Expected=47.880001\n",
            "Day=360, Predicted=47.906242, Expected=47.730000\n",
            "Day=361, Predicted=47.755768, Expected=47.540001\n",
            "Day=362, Predicted=47.566532, Expected=47.389999\n",
            "Day=363, Predicted=47.415905, Expected=47.279999\n",
            "Day=364, Predicted=47.304630, Expected=47.160000\n",
            "Day=365, Predicted=47.184273, Expected=46.970001\n",
            "Day=366, Predicted=46.995827, Expected=46.820000\n",
            "Day=367, Predicted=46.845570, Expected=46.610001\n",
            "Day=368, Predicted=46.636929, Expected=46.369999\n",
            "Day=369, Predicted=46.398308, Expected=46.090000\n",
            "Day=370, Predicted=46.119946, Expected=45.820000\n",
            "Day=371, Predicted=45.850471, Expected=45.570000\n",
            "Day=372, Predicted=45.600231, Expected=45.340000\n",
            "Day=373, Predicted=45.369625, Expected=45.099998\n",
            "Day=374, Predicted=45.129585, Expected=44.849998\n",
            "Day=375, Predicted=44.879810, Expected=44.619999\n",
            "Day=376, Predicted=44.649426, Expected=44.419998\n",
            "Day=377, Predicted=44.448505, Expected=44.209999\n",
            "Day=378, Predicted=44.238319, Expected=44.020000\n",
            "Day=379, Predicted=44.047737, Expected=43.810001\n",
            "Day=380, Predicted=43.837955, Expected=43.619999\n",
            "Day=381, Predicted=43.647564, Expected=43.430000\n",
            "Day=382, Predicted=43.457382, Expected=43.270000\n",
            "Day=383, Predicted=43.296555, Expected=43.139999\n",
            "Day=384, Predicted=43.165428, Expected=43.040001\n",
            "Day=385, Predicted=43.064163, Expected=43.040001\n",
            "Day=386, Predicted=43.061115, Expected=43.040001\n",
            "Day=387, Predicted=43.059673, Expected=43.040001\n",
            "Day=388, Predicted=43.058987, Expected=43.040001\n",
            "Day=389, Predicted=43.058662, Expected=43.020000\n",
            "Day=390, Predicted=43.038994, Expected=42.980000\n",
            "Day=391, Predicted=42.999641, Expected=42.919998\n",
            "Day=392, Predicted=42.940434, Expected=42.830002\n"
          ],
          "name": "stdout"
        }
      ]
    },
    {
      "cell_type": "code",
      "metadata": {
        "colab": {
          "base_uri": "https://localhost:8080/",
          "height": 520
        },
        "id": "0-4WSxo4m-Kp",
        "outputId": "5d8f483c-8224-4631-adb2-a4540b35a33a"
      },
      "source": [
        "# report performance\n",
        "rmse = sqrt(mean_squared_error(uniValues[n_train_days:-1], predictions))\n",
        "print('Test RMSE: %.3f' % rmse)\n",
        "# line plot of observed vs predicted\n",
        "plt.figure(figsize=(20, 10), dpi=80)\n",
        "plt.plot(uniValues[n_train_days:-1])\n",
        "plt.plot(predictions)\n",
        "plt.show()"
      ],
      "execution_count": null,
      "outputs": [
        {
          "output_type": "stream",
          "text": [
            "Test RMSE: 0.065\n"
          ],
          "name": "stdout"
        },
        {
          "output_type": "display_data",
          "data": {
            "image/png": "[encoded data removed]",
            "text/plain": [
              "<Figure size 1600x800 with 1 Axes>"
            ]
          },
          "metadata": {
            "tags": [],
            "needs_background": "light"
          }
        }
      ]
    },
    {
      "cell_type": "markdown",
      "metadata": {
        "id": "V_3GFY9ufGJ7"
      },
      "source": [
        "## **Multivariate**"
      ]
    },
    {
      "cell_type": "code",
      "metadata": {
        "id": "TpXOdnQgqAdr"
      },
      "source": [
        "# convert series to supervised learning\n",
        "def series_to_supervised(data, n_in=1, n_out=1, dropnan=True):\n",
        "\tn_vars = 1 if type(data) is list else data.shape[1]\n",
        "\tdf = pd.DataFrame(data)\n",
        "\tcols, names = list(), list()\n",
        "\t# input sequence (t-n, ... t-1)\n",
        "\tfor i in range(n_in, 0, -1):\n",
        "\t\tcols.append(df.shift(i))\n",
        "\t\tnames += [('var%d(t-%d)' % (j+1, i)) for j in range(n_vars)]\n",
        "\t# forecast sequence (t, t+1, ... t+n)\n",
        "\tfor i in range(0, n_out):\n",
        "\t\tcols.append(df.shift(-i))\n",
        "\t\tif i == 0:\n",
        "\t\t\tnames += [('var%d(t)' % (j+1)) for j in range(n_vars)]\n",
        "\t\telse:\n",
        "\t\t\tnames += [('var%d(t+%d)' % (j+1, i)) for j in range(n_vars)]\n",
        "\t# put it all together\n",
        "\tagg = pd.concat(cols, axis=1)\n",
        "\tagg.columns = names\n",
        "\t# drop rows with NaN values\n",
        "\tif dropnan:\n",
        "\t\tagg.dropna(inplace=True)\n",
        "\treturn agg"
      ],
      "execution_count": null,
      "outputs": []
    },
    {
      "cell_type": "code",
      "metadata": {
        "colab": {
          "base_uri": "https://localhost:8080/"
        },
        "id": "aOjbSfylqtRT",
        "outputId": "ea299045-eb7a-4234-ad84-4937b1f7fe9a"
      },
      "source": [
        "values"
      ],
      "execution_count": null,
      "outputs": [
        {
          "output_type": "execute_result",
          "data": {
            "text/plain": [
              "array([[  46.42,  122.59, 2029.  , 2000.  ],\n",
              "       [  46.54,  122.68, 3084.  , 1490.  ],\n",
              "       [  46.64,  122.75, 2776.  , 1491.  ],\n",
              "       ...,\n",
              "       [  42.98,  119.95, 3026.  , 3273.  ],\n",
              "       [  42.92,  119.9 , 2530.  , 3068.  ],\n",
              "       [  42.83,  119.83, 2416.  , 3243.  ]])"
            ]
          },
          "metadata": {
            "tags": []
          },
          "execution_count": 19
        }
      ]
    },
    {
      "cell_type": "code",
      "metadata": {
        "colab": {
          "base_uri": "https://localhost:8080/",
          "height": 202
        },
        "id": "DovlAPT4swff",
        "outputId": "cf5c7059-68dc-4a7c-93af-24f698677690"
      },
      "source": [
        "# load dataset\n",
        "dataset = pd.read_csv('/content/cloned-repo/KRS.csv', header=0, index_col=0)\n",
        "values = dataset.values\n",
        "# # integer encode direction\n",
        "# encoder = LabelEncoder()\n",
        "# values[:,4] = encoder.fit_transform(values[:,4])\n",
        "# ensure all data is float\n",
        "values = values.astype('float32')\n",
        "# normalize features\n",
        "scaler = MinMaxScaler(feature_range=(0, 1))\n",
        "scaled = scaler.fit_transform(values)\n",
        "# frame as supervised learning\n",
        "reframed = series_to_supervised(scaled, 1, 1) \n",
        "reframed.head()"
      ],
      "execution_count": null,
      "outputs": [
        {
          "output_type": "execute_result",
          "data": {
            "text/html": [
              "<div>\n",
              "<style scoped>\n",
              "    .dataframe tbody tr th:only-of-type {\n",
              "        vertical-align: middle;\n",
              "    }\n",
              "\n",
              "    .dataframe tbody tr th {\n",
              "        vertical-align: top;\n",
              "    }\n",
              "\n",
              "    .dataframe thead th {\n",
              "        text-align: right;\n",
              "    }\n",
              "</style>\n",
              "<table border=\"1\" class=\"dataframe\">\n",
              "  <thead>\n",
              "    <tr style=\"text-align: right;\">\n",
              "      <th></th>\n",
              "      <th>var1(t-1)</th>\n",
              "      <th>var2(t-1)</th>\n",
              "      <th>var3(t-1)</th>\n",
              "      <th>var4(t-1)</th>\n",
              "      <th>var1(t)</th>\n",
              "      <th>var2(t)</th>\n",
              "      <th>var3(t)</th>\n",
              "      <th>var4(t)</th>\n",
              "    </tr>\n",
              "  </thead>\n",
              "  <tbody>\n",
              "    <tr>\n",
              "      <th>1</th>\n",
              "      <td>0.938726</td>\n",
              "      <td>0.964355</td>\n",
              "      <td>0.009936</td>\n",
              "      <td>0.013213</td>\n",
              "      <td>0.941153</td>\n",
              "      <td>0.965806</td>\n",
              "      <td>0.015103</td>\n",
              "      <td>0.009844</td>\n",
              "    </tr>\n",
              "    <tr>\n",
              "      <th>2</th>\n",
              "      <td>0.941153</td>\n",
              "      <td>0.965806</td>\n",
              "      <td>0.015103</td>\n",
              "      <td>0.009844</td>\n",
              "      <td>0.943175</td>\n",
              "      <td>0.966935</td>\n",
              "      <td>0.013595</td>\n",
              "      <td>0.009850</td>\n",
              "    </tr>\n",
              "    <tr>\n",
              "      <th>3</th>\n",
              "      <td>0.943175</td>\n",
              "      <td>0.966935</td>\n",
              "      <td>0.013595</td>\n",
              "      <td>0.009850</td>\n",
              "      <td>0.944186</td>\n",
              "      <td>0.967581</td>\n",
              "      <td>0.011317</td>\n",
              "      <td>0.009850</td>\n",
              "    </tr>\n",
              "    <tr>\n",
              "      <th>4</th>\n",
              "      <td>0.944186</td>\n",
              "      <td>0.967581</td>\n",
              "      <td>0.011317</td>\n",
              "      <td>0.009850</td>\n",
              "      <td>0.944388</td>\n",
              "      <td>0.967742</td>\n",
              "      <td>0.009045</td>\n",
              "      <td>0.009850</td>\n",
              "    </tr>\n",
              "    <tr>\n",
              "      <th>5</th>\n",
              "      <td>0.944388</td>\n",
              "      <td>0.967742</td>\n",
              "      <td>0.009045</td>\n",
              "      <td>0.009850</td>\n",
              "      <td>0.945197</td>\n",
              "      <td>0.968226</td>\n",
              "      <td>0.010558</td>\n",
              "      <td>0.009850</td>\n",
              "    </tr>\n",
              "  </tbody>\n",
              "</table>\n",
              "</div>"
            ],
            "text/plain": [
              "   var1(t-1)  var2(t-1)  var3(t-1)  ...   var2(t)   var3(t)   var4(t)\n",
              "1   0.938726   0.964355   0.009936  ...  0.965806  0.015103  0.009844\n",
              "2   0.941153   0.965806   0.015103  ...  0.966935  0.013595  0.009850\n",
              "3   0.943175   0.966935   0.013595  ...  0.967581  0.011317  0.009850\n",
              "4   0.944186   0.967581   0.011317  ...  0.967742  0.009045  0.009850\n",
              "5   0.944388   0.967742   0.009045  ...  0.968226  0.010558  0.009850\n",
              "\n",
              "[5 rows x 8 columns]"
            ]
          },
          "metadata": {
            "tags": []
          },
          "execution_count": 20
        }
      ]
    },
    {
      "cell_type": "code",
      "metadata": {
        "id": "aqkXrItCsTzf",
        "colab": {
          "base_uri": "https://localhost:8080/"
        },
        "outputId": "afc5a657-82f6-4134-99a5-2bc00d8af988"
      },
      "source": [
        "# drop columns we don't want to predict i.e, variables for the day to be predicted (t) are removed.\n",
        "# predicting for col1 i.e, PRESENT_STORAGE_TMC drop 5,6,7\n",
        "# predicting for col2 i.e, RES_LEVEL_FT drop 4,6,7\n",
        "reframed.drop(reframed.columns[[5,6,7]], axis=1, inplace=True)\n",
        "print(reframed.head())"
      ],
      "execution_count": null,
      "outputs": [
        {
          "output_type": "stream",
          "text": [
            "   var1(t-1)  var2(t-1)  var3(t-1)  var4(t-1)   var1(t)\n",
            "1   0.938726   0.964355   0.009936   0.013213  0.941153\n",
            "2   0.941153   0.965806   0.015103   0.009844  0.943175\n",
            "3   0.943175   0.966935   0.013595   0.009850  0.944186\n",
            "4   0.944186   0.967581   0.011317   0.009850  0.944388\n",
            "5   0.944388   0.967742   0.009045   0.009850  0.945197\n"
          ],
          "name": "stdout"
        }
      ]
    },
    {
      "cell_type": "code",
      "metadata": {
        "colab": {
          "base_uri": "https://localhost:8080/"
        },
        "id": "UBm4G6qJZ7jR",
        "outputId": "8e2d7aa9-91f6-4892-aabc-c2bccfca49f2"
      },
      "source": [
        "# split into train and test sets\n",
        "values = reframed.values\n",
        "n_train_years = 365 * 8\n",
        "train = values[:n_train_years, :]\n",
        "test = values[n_train_years:, :]\n",
        "# split into input and outputs\n",
        "train_X, train_y = train[:, :-1], train[:, -1]\n",
        "test_X, test_y = test[:, :-1], test[:, -1]\n",
        "# reshape input to be 3D [samples, timesteps, features]\n",
        "train_X = train_X.reshape((train_X.shape[0], 1, train_X.shape[1]))\n",
        "test_X = test_X.reshape((test_X.shape[0], 1, test_X.shape[1]))\n",
        "print(train_X.shape, train_y.shape, test_X.shape, test_y.shape)"
      ],
      "execution_count": null,
      "outputs": [
        {
          "output_type": "stream",
          "text": [
            "(2920, 1, 4) (2920,) (390, 1, 4) (390,)\n"
          ],
          "name": "stdout"
        }
      ]
    },
    {
      "cell_type": "code",
      "metadata": {
        "colab": {
          "base_uri": "https://localhost:8080/",
          "height": 1000
        },
        "id": "nhmmgdIBb0lh",
        "outputId": "d4cca8a4-dca3-4dc9-aa64-5d317ff0f50e"
      },
      "source": [
        "# design network\n",
        "model = Sequential()\n",
        "model.add(LSTM(50, input_shape=(train_X.shape[1], train_X.shape[2])))\n",
        "model.add(Dense(1))\n",
        "model.compile(loss='mae', optimizer='adam')\n",
        "# fit network\n",
        "history = model.fit(train_X, train_y, epochs=50, batch_size=72, validation_data=(test_X, test_y), verbose=2, shuffle=False)\n",
        "# plot history\n",
        "plt.plot(history.history['loss'], label='train')\n",
        "plt.plot(history.history['val_loss'], label='test')\n",
        "plt.legend()\n",
        "plt.show()"
      ],
      "execution_count": null,
      "outputs": [
        {
          "output_type": "stream",
          "text": [
            "Epoch 1/50\n",
            "41/41 - 4s - loss: 0.4164 - val_loss: 0.3871\n",
            "Epoch 2/50\n",
            "41/41 - 0s - loss: 0.1826 - val_loss: 0.1409\n",
            "Epoch 3/50\n",
            "41/41 - 0s - loss: 0.1131 - val_loss: 0.1094\n",
            "Epoch 4/50\n",
            "41/41 - 0s - loss: 0.0903 - val_loss: 0.0920\n",
            "Epoch 5/50\n",
            "41/41 - 0s - loss: 0.0705 - val_loss: 0.0756\n",
            "Epoch 6/50\n",
            "41/41 - 0s - loss: 0.0509 - val_loss: 0.0585\n",
            "Epoch 7/50\n",
            "41/41 - 0s - loss: 0.0311 - val_loss: 0.0330\n",
            "Epoch 8/50\n",
            "41/41 - 0s - loss: 0.0222 - val_loss: 0.0229\n",
            "Epoch 9/50\n",
            "41/41 - 0s - loss: 0.0197 - val_loss: 0.0193\n",
            "Epoch 10/50\n",
            "41/41 - 0s - loss: 0.0187 - val_loss: 0.0176\n",
            "Epoch 11/50\n",
            "41/41 - 0s - loss: 0.0182 - val_loss: 0.0144\n",
            "Epoch 12/50\n",
            "41/41 - 0s - loss: 0.0165 - val_loss: 0.0159\n",
            "Epoch 13/50\n",
            "41/41 - 0s - loss: 0.0175 - val_loss: 0.0154\n",
            "Epoch 14/50\n",
            "41/41 - 0s - loss: 0.0158 - val_loss: 0.0156\n",
            "Epoch 15/50\n",
            "41/41 - 0s - loss: 0.0159 - val_loss: 0.0173\n",
            "Epoch 16/50\n",
            "41/41 - 0s - loss: 0.0155 - val_loss: 0.0151\n",
            "Epoch 17/50\n",
            "41/41 - 0s - loss: 0.0136 - val_loss: 0.0129\n",
            "Epoch 18/50\n",
            "41/41 - 0s - loss: 0.0130 - val_loss: 0.0110\n",
            "Epoch 19/50\n",
            "41/41 - 0s - loss: 0.0133 - val_loss: 0.0123\n",
            "Epoch 20/50\n",
            "41/41 - 0s - loss: 0.0128 - val_loss: 0.0123\n",
            "Epoch 21/50\n",
            "41/41 - 0s - loss: 0.0119 - val_loss: 0.0100\n",
            "Epoch 22/50\n",
            "41/41 - 0s - loss: 0.0117 - val_loss: 0.0085\n",
            "Epoch 23/50\n",
            "41/41 - 0s - loss: 0.0118 - val_loss: 0.0084\n",
            "Epoch 24/50\n",
            "41/41 - 0s - loss: 0.0116 - val_loss: 0.0101\n",
            "Epoch 25/50\n",
            "41/41 - 0s - loss: 0.0116 - val_loss: 0.0131\n",
            "Epoch 26/50\n",
            "41/41 - 0s - loss: 0.0116 - val_loss: 0.0138\n",
            "Epoch 27/50\n",
            "41/41 - 0s - loss: 0.0120 - val_loss: 0.0108\n",
            "Epoch 28/50\n",
            "41/41 - 0s - loss: 0.0118 - val_loss: 0.0092\n",
            "Epoch 29/50\n",
            "41/41 - 0s - loss: 0.0115 - val_loss: 0.0085\n",
            "Epoch 30/50\n",
            "41/41 - 0s - loss: 0.0111 - val_loss: 0.0082\n",
            "Epoch 31/50\n",
            "41/41 - 0s - loss: 0.0109 - val_loss: 0.0075\n",
            "Epoch 32/50\n",
            "41/41 - 0s - loss: 0.0109 - val_loss: 0.0087\n",
            "Epoch 33/50\n",
            "41/41 - 0s - loss: 0.0108 - val_loss: 0.0086\n",
            "Epoch 34/50\n",
            "41/41 - 0s - loss: 0.0101 - val_loss: 0.0097\n",
            "Epoch 35/50\n",
            "41/41 - 0s - loss: 0.0100 - val_loss: 0.0077\n",
            "Epoch 36/50\n",
            "41/41 - 0s - loss: 0.0082 - val_loss: 0.0068\n",
            "Epoch 37/50\n",
            "41/41 - 0s - loss: 0.0080 - val_loss: 0.0076\n",
            "Epoch 38/50\n",
            "41/41 - 0s - loss: 0.0089 - val_loss: 0.0072\n",
            "Epoch 39/50\n",
            "41/41 - 0s - loss: 0.0085 - val_loss: 0.0067\n",
            "Epoch 40/50\n",
            "41/41 - 0s - loss: 0.0084 - val_loss: 0.0067\n",
            "Epoch 41/50\n",
            "41/41 - 0s - loss: 0.0085 - val_loss: 0.0067\n",
            "Epoch 42/50\n",
            "41/41 - 0s - loss: 0.0085 - val_loss: 0.0065\n",
            "Epoch 43/50\n",
            "41/41 - 0s - loss: 0.0084 - val_loss: 0.0069\n",
            "Epoch 44/50\n",
            "41/41 - 0s - loss: 0.0085 - val_loss: 0.0067\n",
            "Epoch 45/50\n",
            "41/41 - 0s - loss: 0.0084 - val_loss: 0.0068\n",
            "Epoch 46/50\n",
            "41/41 - 0s - loss: 0.0085 - val_loss: 0.0068\n",
            "Epoch 47/50\n",
            "41/41 - 0s - loss: 0.0085 - val_loss: 0.0065\n",
            "Epoch 48/50\n",
            "41/41 - 0s - loss: 0.0085 - val_loss: 0.0065\n",
            "Epoch 49/50\n",
            "41/41 - 0s - loss: 0.0085 - val_loss: 0.0069\n",
            "Epoch 50/50\n",
            "41/41 - 0s - loss: 0.0086 - val_loss: 0.0066\n"
          ],
          "name": "stdout"
        },
        {
          "output_type": "display_data",
          "data": {
            "image/png": "[encoded data removed]",
            "text/plain": [
              "<Figure size 432x288 with 1 Axes>"
            ]
          },
          "metadata": {
            "tags": [],
            "needs_background": "light"
          }
        }
      ]
    },
    {
      "cell_type": "code",
      "metadata": {
        "colab": {
          "base_uri": "https://localhost:8080/"
        },
        "id": "_iLOI4ocb93R",
        "outputId": "77088034-08f5-470f-ec4e-7694278e6b89"
      },
      "source": [
        "# make a prediction\n",
        "yhat = model.predict(test_X)\n",
        "test_X = test_X.reshape((test_X.shape[0], test_X.shape[2]))\n",
        "# invert scaling for forecast\n",
        "inv_yhat = np.concatenate((yhat, test_X[:, 1:]), axis=1)\n",
        "inv_yhat = scaler.inverse_transform(inv_yhat)\n",
        "inv_yhat = inv_yhat[:,0]\n",
        "# invert scaling for actual\n",
        "test_y = test_y.reshape((len(test_y), 1))\n",
        "inv_y = np.concatenate((test_y, test_X[:, 1:]), axis=1)\n",
        "inv_y = scaler.inverse_transform(inv_y)\n",
        "inv_y = inv_y[:,0]\n",
        "# calculate RMSE\n",
        "rmse = sqrt(mean_squared_error(inv_y, inv_yhat))\n",
        "print('Test RMSE: %.3f' % rmse)"
      ],
      "execution_count": null,
      "outputs": [
        {
          "output_type": "stream",
          "text": [
            "Test RMSE: 2.426\n"
          ],
          "name": "stdout"
        }
      ]
    },
    {
      "cell_type": "code",
      "metadata": {
        "id": "2bV49Phac0P5"
      },
      "source": [
        ""
      ],
      "execution_count": null,
      "outputs": []
    }
  ]
}